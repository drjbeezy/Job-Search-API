{
 "cells": [
  {
   "cell_type": "code",
   "execution_count": 9,
   "id": "07a67f54-33b5-45ce-92fc-39606d39d827",
   "metadata": {
    "tags": []
   },
   "outputs": [
    {
     "name": "stdout",
     "output_type": "stream",
     "text": [
      "United States Army\n"
     ]
    }
   ],
   "source": [
    "import requests\n",
    "\n",
    "url = 'https://api.adzuna.com/v1/api/jobs/us/top_companies?app_id=ce3dde60&app_key=23ab186f36f767814e36b2fc01a22761'\n",
    "response = requests.get(url)\n",
    "data = response.json()\n",
    "\n",
    "print(data['leaderboard'][3]['canonical_name'])"
   ]
  },
  {
   "cell_type": "code",
   "execution_count": 23,
   "id": "1c6044e4-eab4-45a8-aecd-ab74c91c40a9",
   "metadata": {
    "tags": []
   },
   "outputs": [
    {
     "name": "stdout",
     "output_type": "stream",
     "text": [
      "WALGREENS\n",
      "Software Engineer\n",
      "45263.52\n",
      "45263.52\n",
      "['US', 'Illinois', 'Lake County', 'Bannockburn']\n"
     ]
    }
   ],
   "source": [
    "import requests\n",
    "\n",
    "url = 'https://api.adzuna.com/v1/api/jobs/us/search/1?app_id=ce3dde60&app_key=23ab186f36f767814e36b2fc01a22761&what_and=software%20engineer'\n",
    "response = requests.get(url)\n",
    "data = response.json()\n",
    "\n",
    "print(data['results'][0]['company']['display_name'])\n",
    "print(data['results'][0]['title'])\n",
    "print(data['results'][0]['salary_max'])\n",
    "print(data['results'][0]['salary_min'])\n",
    "print(data['results'][0]['location']['area'])"
   ]
  },
  {
   "cell_type": "code",
   "execution_count": 26,
   "id": "653aa2af-ffa7-4ad0-8b18-75a2d5b2930b",
   "metadata": {
    "tags": []
   },
   "outputs": [
    {
     "name": "stdout",
     "output_type": "stream",
     "text": [
      "IT Jobs\n"
     ]
    }
   ],
   "source": [
    "import requests\n",
    "\n",
    "url = 'https://api.adzuna.com/v1/api/jobs/us/categories?app_id=ce3dde60&app_key=23ab186f36f767814e36b2fc01a22761'\n",
    "response = requests.get(url)\n",
    "data = response.json()\n",
    "\n",
    "print(data['results'][1]['label'])"
   ]
  },
  {
   "cell_type": "code",
   "execution_count": null,
   "id": "2733337f-a393-4dd3-afbf-1f0e23ec3bf6",
   "metadata": {},
   "outputs": [],
   "source": []
  }
 ],
 "metadata": {
  "kernelspec": {
   "display_name": "Python 3 (ipykernel)",
   "language": "python",
   "name": "python3"
  },
  "language_info": {
   "codemirror_mode": {
    "name": "ipython",
    "version": 3
   },
   "file_extension": ".py",
   "mimetype": "text/x-python",
   "name": "python",
   "nbconvert_exporter": "python",
   "pygments_lexer": "ipython3",
   "version": "3.11.3"
  }
 },
 "nbformat": 4,
 "nbformat_minor": 5
}
